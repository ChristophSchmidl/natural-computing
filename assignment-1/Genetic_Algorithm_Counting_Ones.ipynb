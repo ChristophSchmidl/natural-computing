{
 "cells": [
  {
   "cell_type": "code",
   "execution_count": 3,
   "metadata": {
    "collapsed": false
   },
   "outputs": [
    {
     "name": "stdout",
     "output_type": "stream",
     "text": [
      "Performing (1+1)-GA\n"
     ]
    },
    {
     "data": {
      "image/png": "[encoded data removed]",
      "text/plain": [
       "<matplotlib.figure.Figure at 0x1ff24a2fc88>"
      ]
     },
     "metadata": {},
     "output_type": "display_data"
    },
    {
     "name": "stdout",
     "output_type": "stream",
     "text": [
      "Best bit sequence: [1 1 1 1 1 1 1 1 1 1 1 1 1 1 1 1 1 1 1 1 1 1 1 1 1 1 1 1 1 1 1 1 1 1 1 1 1\n",
      " 1 1 1 1 1 1 1 1 1 1 1 1 1 1 1 1 1 1 1 1 1 1 1 1 1 1 1 1 1 1 1 1 1 1 1 1 1\n",
      " 1 1 1 1 1 1 1 1 1 1 1 1 1 1 1 1 1 1 1 1 1 1 1 1 1 1]\n",
      "Best fitness: 100\n"
     ]
    }
   ],
   "source": [
    "%matplotlib inline\n",
    "import numpy as np\n",
    "import matplotlib.pyplot as plt\n",
    "import random\n",
    "import copy\n",
    "\n",
    "def generate_random_bit_array(length):\n",
    "    return np.random.randint(2, size=(length,))\n",
    "\n",
    "def counting_ones(arr):\n",
    "    return np.sum(arr)\n",
    "\n",
    "def multi_flip_binary(arr, probability):\n",
    "    for idx, val in enumerate(arr):\n",
    "        if random.random() < probability:\n",
    "            arr[idx] = not arr[idx]\n",
    "    return arr        \n",
    "\n",
    "\n",
    "def genetic_algorithm(objective_function, array_length, evaluations):\n",
    "    print('Performing (1+1)-GA')\n",
    "    \n",
    "    # (a) Generate random bitarray of length 'bitarray_length'\n",
    "    best_bitarray = generate_random_bit_array(array_length)\n",
    "    # Get the fitness of the current solution\n",
    "    best_fitness = objective_function(best_bitarray)\n",
    "    fitness_history = [best_fitness]\n",
    "    \n",
    "    # (d)\n",
    "    for x in range(0, evaluations):\n",
    "        # (b) Create a copy of this bitarray and invert each bit with probability 1/n\n",
    "        best_bitarray_copy = copy.deepcopy(best_bitarray)\n",
    "        mutated_bitarray = multi_flip_binary(best_bitarray_copy, 1/array_length)\n",
    "        mutated_bitarray_fitness = objective_function(mutated_bitarray)\n",
    "        \n",
    "        # (c) take the mutant if it is closer to the goal sequence\n",
    "        if mutated_bitarray_fitness >= best_fitness:\n",
    "            best_bitarray = mutated_bitarray\n",
    "            best_fitness = mutated_bitarray_fitness\n",
    "        \n",
    "        fitness_history.append(best_fitness)\n",
    "        \n",
    "    axes = plt.gca()\n",
    "    axes.set_xlim([0,evaluations])\n",
    "    axes.set_ylim([0,array_length])    \n",
    "    plt.plot(fitness_history)\n",
    "    plt.xlabel('evaluations')\n",
    "    plt.ylabel('fitness')\n",
    "    plt.title('(1+1)-GA Counting Ones Problem')\n",
    "\n",
    "    plt.show()\n",
    "    return [best_bitarray, best_fitness]\n",
    "    \n",
    "\n",
    "result = genetic_algorithm(counting_ones, 100, 1500)\n",
    "print(\"Best bit sequence: \" + str(result[0]))\n",
    "print(\"Best fitness: \" + str(result[1]))\n"
   ]
  },
  {
   "cell_type": "code",
   "execution_count": null,
   "metadata": {
    "collapsed": true
   },
   "outputs": [],
   "source": []
  }
 ],
 "metadata": {
  "anaconda-cloud": {},
  "kernelspec": {
   "display_name": "Python [conda root]",
   "language": "python",
   "name": "conda-root-py"
  },
  "language_info": {
   "codemirror_mode": {
    "name": "ipython",
    "version": 3
   },
   "file_extension": ".py",
   "mimetype": "text/x-python",
   "name": "python",
   "nbconvert_exporter": "python",
   "pygments_lexer": "ipython3",
   "version": "3.5.2"
  }
 },
 "nbformat": 4,
 "nbformat_minor": 1
}
