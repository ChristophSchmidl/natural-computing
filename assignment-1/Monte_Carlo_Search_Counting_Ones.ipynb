{
 "cells": [
  {
   "cell_type": "code",
   "execution_count": 79,
   "metadata": {
    "collapsed": false,
    "scrolled": true
   },
   "outputs": [
    {
     "name": "stdout",
     "output_type": "stream",
     "text": [
      "Performing binary monte carlo search...\n"
     ]
    },
    {
     "data": {
      "image/png": "[encoded data removed]",
      "text/plain": [
       "<matplotlib.figure.Figure at 0x1b2a30ba630>"
      ]
     },
     "metadata": {},
     "output_type": "display_data"
    },
    {
     "name": "stdout",
     "output_type": "stream",
     "text": [
      "Best bit sequence: bitarray('1111000011111111100110101010000110110010000000010000000000000000111100001111111110011010101000011011')\n",
      "Best fitness: 46\n"
     ]
    }
   ],
   "source": [
    "%matplotlib inline\n",
    "from bitarray import bitarray\n",
    "import matplotlib.pyplot as plt\n",
    "\n",
    "def counting_ones(bitarray_instance):\n",
    "    return bitarray_instance.count(True)\n",
    "\n",
    "def binary_monte_carlo(objective_function, bitarray_length, evaluations):\n",
    "    print('Performing binary monte carlo search...')\n",
    "    \n",
    "    # Generate random bitarray of length 'bitarray_length'\n",
    "    best_bitarray = bitarray(bitarray_length)\n",
    "    # Get the fitness of the current solution\n",
    "    best_fitness = objective_function(best_bitarray)\n",
    "    fitness_history = [best_fitness]\n",
    "    \n",
    "    for x in range(0, evaluations):\n",
    "        tmp_best_bitarray = bitarray(bitarray_length)\n",
    "        tmp_best_fitness = objective_function(tmp_best_bitarray)\n",
    "        \n",
    "        if tmp_best_fitness >= best_fitness:\n",
    "            best_bitarray = tmp_best_bitarray\n",
    "            best_fitness = tmp_best_fitness\n",
    "        \n",
    "        fitness_history.append(best_fitness)\n",
    "        \n",
    "    axes = plt.gca()\n",
    "    axes.set_xlim([0,evaluations])\n",
    "    axes.set_ylim([0,bitarray_length])    \n",
    "    plt.plot(fitness_history)\n",
    "    plt.xlabel('evaluations')\n",
    "    plt.ylabel('fitness')\n",
    "    plt.title('Monte-Carlo Counting Ones Problem')\n",
    "\n",
    "    plt.show()\n",
    "    return [best_bitarray, best_fitness]\n",
    "    \n",
    "result = binary_monte_carlo(counting_ones, 100, 10)\n",
    "\n",
    "print(\"Best bit sequence: \" + str(result[0]))\n",
    "print(\"Best fitness: \" + str(result[1]))"
   ]
  },
  {
   "cell_type": "code",
   "execution_count": null,
   "metadata": {
    "collapsed": true
   },
   "outputs": [],
   "source": []
  }
 ],
 "metadata": {
  "anaconda-cloud": {},
  "kernelspec": {
   "display_name": "Python [conda root]",
   "language": "python",
   "name": "conda-root-py"
  },
  "language_info": {
   "codemirror_mode": {
    "name": "ipython",
    "version": 3
   },
   "file_extension": ".py",
   "mimetype": "text/x-python",
   "name": "python",
   "nbconvert_exporter": "python",
   "pygments_lexer": "ipython3",
   "version": "3.5.2"
  }
 },
 "nbformat": 4,
 "nbformat_minor": 1
}
